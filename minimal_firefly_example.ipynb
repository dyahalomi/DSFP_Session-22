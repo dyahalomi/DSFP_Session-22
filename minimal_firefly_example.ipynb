{
 "cells": [
  {
   "cell_type": "markdown",
   "id": "0ea7bcf5-2a0f-4f16-a2a5-d628d7b159f7",
   "metadata": {},
   "source": [
    "# Example Firefly usage\n",
    "\n",
    "This builds off of the [minimal example](https://firefly.rcs.northwestern.edu/docs/data_reader/minimal_example.html) from our docs and the new [data selection example](https://github.com/ageller/Firefly/blob/main/src/firefly/ntbks/selecting_data.ipynb) from our GitHub repo.\n",
    "\n",
    "\n",
    "As an example, we will generate two random particle sets (a sphere and a cube) both with a randomized attribute field.  We will load these data into Firefly.\n",
    "\n",
    "This notebook also demonstrates how to retrieve data that you selected by hand in the Firefly app and then use those data with your notebook. "
   ]
  },
  {
   "cell_type": "code",
   "execution_count": 1,
   "id": "0bb698e7-3808-42d8-976e-571c7d383849",
   "metadata": {},
   "outputs": [],
   "source": [
    "import numpy as np"
   ]
  },
  {
   "cell_type": "code",
   "execution_count": 2,
   "id": "0ac428d3-34a1-4acb-806b-fe4249e3f937",
   "metadata": {},
   "outputs": [],
   "source": [
    "# Load your data. Here we're creating random data.\n",
    "\n",
    "# one particle set (sphere)\n",
    "coords_sphere = np.random.randn( 20000, 3 )\n",
    "fields_sphere = np.random.random(size=coords_sphere[:,0].size)\n",
    "\n",
    "# a second particle set (cube)\n",
    "coords_cube = np.random.rand( 20000, 3 ) - 0.5\n",
    "fields_cube = np.random.random(size=coords_cube[:,0].size)"
   ]
  },
  {
   "cell_type": "markdown",
   "id": "34ecbc6c-a09f-4017-9c0e-5768cd91276a",
   "metadata": {},
   "source": [
    "## Format Data for Firefly"
   ]
  },
  {
   "cell_type": "markdown",
   "id": "fd67a451",
   "metadata": {},
   "source": [
    "Here are the docs for [Reader](https://firefly.rcs.northwestern.edu/docs/reference/api/classes/firefly.data_reader.Reader.html#firefly.data_reader.Reader) and [ParticleGroup](https://firefly.rcs.northwestern.edu/docs/reference/api/classes/firefly.data_reader.ParticleGroup.html#firefly.data_reader.ParticleGroup) and also [a tutorial for using these](https://firefly.rcs.northwestern.edu/docs/data_reader/reader_tutorial.html).  Also note that for simple data (e.g., one particle group), you can use the [ArrayReader](https://firefly.rcs.northwestern.edu/docs/reference/api/readers/firefly.data_reader.ArrayReader.html) class."
   ]
  },
  {
   "cell_type": "code",
   "execution_count": 3,
   "id": "2154b107-f405-443c-b607-737c78e37dfb",
   "metadata": {},
   "outputs": [],
   "source": [
    "from firefly.data_reader import ParticleGroup, Reader"
   ]
  },
  {
   "cell_type": "code",
   "execution_count": 4,
   "id": "a3a04bf0",
   "metadata": {},
   "outputs": [
    {
     "name": "stdout",
     "output_type": "stream",
     "text": [
      "Make sure each field_array (1) has a field_filter_flag (0), assuming True.\n",
      "Make sure each field_array (1) has a field_colormap_flag (0), assuming True.\n",
      "Make sure each field_array (1) has a field_radius_flag (0), assuming False.\n",
      "Make sure each field_array (1) has a field_filter_flag (0), assuming True.\n",
      "Make sure each field_array (1) has a field_colormap_flag (0), assuming True.\n",
      "Make sure each field_array (1) has a field_radius_flag (0), assuming False.\n",
      "datadir is None, defaulting to /Users/daniel/opt/anaconda3/envs/firefly-env/lib/python3.11/site-packages/firefly/static/data/Data\n"
     ]
    }
   ],
   "source": [
    "# create two Firefly particle groups\n",
    "sphere = ParticleGroup(\n",
    "    'sphere',\n",
    "    coords_sphere,\n",
    "    field_arrays=[fields_sphere], \n",
    "    field_names=['rands']\n",
    ") \n",
    "\n",
    "cube = ParticleGroup(\n",
    "    'cube',\n",
    "    coords_cube,\n",
    "    field_arrays=[fields_cube], \n",
    "    field_names=['randc']\n",
    ") \n",
    "\n",
    "# create the Reader\n",
    "my_reader = Reader()\n",
    "\n",
    "# add the particle groups to the reader\n",
    "my_reader.addParticleGroup(sphere)\n",
    "my_reader.addParticleGroup(cube)\n"
   ]
  },
  {
   "cell_type": "markdown",
   "id": "dabdb04f-71ad-4b1c-9c73-211300a75fef",
   "metadata": {},
   "source": [
    "## Display Inline"
   ]
  },
  {
   "cell_type": "code",
   "execution_count": 5,
   "id": "cf3fd1b8-f568-4558-b8f3-4c6751d4f32b",
   "metadata": {},
   "outputs": [],
   "source": [
    "from firefly.server import spawnFireflyServer,quitAllFireflyServers"
   ]
  },
  {
   "cell_type": "code",
   "execution_count": 6,
   "id": "9b1f007c",
   "metadata": {},
   "outputs": [],
   "source": [
    "# define the local port (typically anything in 5000 - 8000 range)\n",
    "port = 5500"
   ]
  },
  {
   "cell_type": "code",
   "execution_count": 7,
   "id": "6e2fa016-019c-482a-a039-114816ecee37",
   "metadata": {},
   "outputs": [
    {
     "name": "stdout",
     "output_type": "stream",
     "text": [
      "Waiting up to 10 seconds for background Firefly server to start....."
     ]
    },
    {
     "name": "stderr",
     "output_type": "stream",
     "text": [
      " * Restarting with stat\n"
     ]
    },
    {
     "name": "stdout",
     "output_type": "stream",
     "text": [
      ".done! Your server is available at - http://localhost:5500\n"
     ]
    }
   ],
   "source": [
    "process = spawnFireflyServer(port, method = 'flask')"
   ]
  },
  {
   "cell_type": "code",
   "execution_count": 8,
   "id": "0493ceed-85af-4e50-a6b4-95801a4e37ec",
   "metadata": {},
   "outputs": [
    {
     "data": {
      "text/html": [
       "\n",
       "        <iframe\n",
       "            width=\"1000\"\n",
       "            height=\"500\"\n",
       "            src=\"http://localhost:5500/combined\"\n",
       "            frameborder=\"0\"\n",
       "            allowfullscreen\n",
       "            \n",
       "        ></iframe>\n",
       "        "
      ],
      "text/plain": [
       "<IPython.lib.display.IFrame at 0x11dbf3f10>"
      ]
     },
     "execution_count": 8,
     "metadata": {},
     "output_type": "execute_result"
    }
   ],
   "source": [
    "from IPython.display import IFrame\n",
    "url = f'http://localhost:{port:d}/combined'\n",
    "IFrame(url, width=1000, height=500)"
   ]
  },
  {
   "cell_type": "code",
   "execution_count": 9,
   "id": "2261db30-3211-482a-adbc-a3f2983199fd",
   "metadata": {
    "tags": []
   },
   "outputs": [
    {
     "name": "stdout",
     "output_type": "stream",
     "text": [
      "sphere - 20000/20000 particles - 1 tracked fields\n",
      "cube - 20000/20000 particles - 1 tracked fields\n",
      "Posting data on port 5500...data posted!\n"
     ]
    }
   ],
   "source": [
    "# Send data to the server.\n",
    "# Wait until it loads to run this command\n",
    "my_reader.sendDataViaFlask()"
   ]
  },
  {
   "cell_type": "markdown",
   "id": "58b2b46c",
   "metadata": {},
   "source": [
    "## Get the selected data in Python\n",
    "\n",
    "(after using the selection tool)"
   ]
  },
  {
   "cell_type": "code",
   "execution_count": 20,
   "id": "de937d06",
   "metadata": {},
   "outputs": [],
   "source": [
    "import requests\n",
    "\n",
    "import matplotlib.pyplot as plt\n",
    "%matplotlib inline"
   ]
  },
  {
   "cell_type": "code",
   "execution_count": null,
   "id": "d0883299",
   "metadata": {},
   "outputs": [],
   "source": [
    "# send a get request to receive the current settings from Firefly\n",
    "# for larger amounts of data, you will need to increase the waitTime (in seconds) via params (see below; the default is 10s)\n",
    "r = requests.get(url = f'http://localhost:{port:d}/get_selected_data', params = {'waitTime':60})\n",
    "if r.status_code == 200:\n",
    "    # success\n",
    "    selection = r.json()\n",
    "    # as a check\n",
    "    partsKeys = list(selection.keys())\n",
    "    print(partsKeys)\n",
    "    print(selection[partsKeys[0]]['Coordinates_flat'][:100]) \n",
    "else:\n",
    "    print('Error: {}'.format(r.status_code), r.content)\n"
   ]
  },
  {
   "cell_type": "code",
   "execution_count": null,
   "id": "20a253b3",
   "metadata": {},
   "outputs": [],
   "source": [
    "# plot x, y for the selected points\n",
    "partsKeys = list(selection.keys())\n",
    "part0 = selection[partsKeys[0]]\n",
    "\n",
    "# UPDATE THIS\n",
    "x = part0['Coordinates_flat'][0::3]\n",
    "y = part0['Coordinates_flat'][1::3]\n",
    "\n",
    "f, ax = plt.subplots()\n",
    "ax.scatter(x[:1000],y[:1000])"
   ]
  },
  {
   "cell_type": "markdown",
   "id": "e7a2716d",
   "metadata": {},
   "source": [
    "### Quit the Firefly server\n",
    "\n",
    "... this doesn't always work in a notebook ... you can also quit the server by resetting the kernel."
   ]
  },
  {
   "cell_type": "code",
   "execution_count": null,
   "id": "83c11899-5ca2-4a58-91e1-6818988f3603",
   "metadata": {},
   "outputs": [],
   "source": [
    "return_code = quitAllFireflyServers()"
   ]
  },
  {
   "cell_type": "code",
   "execution_count": null,
   "id": "d04aaa5d",
   "metadata": {},
   "outputs": [],
   "source": []
  }
 ],
 "metadata": {
  "kernelspec": {
   "display_name": "Python 3 (ipykernel)",
   "language": "python",
   "name": "python3"
  },
  "language_info": {
   "codemirror_mode": {
    "name": "ipython",
    "version": 3
   },
   "file_extension": ".py",
   "mimetype": "text/x-python",
   "name": "python",
   "nbconvert_exporter": "python",
   "pygments_lexer": "ipython3",
   "version": "3.11.10"
  }
 },
 "nbformat": 4,
 "nbformat_minor": 5
}
