{
 "cells": [
  {
   "cell_type": "markdown",
   "id": "0ea7bcf5-2a0f-4f16-a2a5-d628d7b159f7",
   "metadata": {},
   "source": [
    "# Example Firefly usage\n",
    "\n",
    "This builds off of the [minimal example](https://firefly.rcs.northwestern.edu/docs/data_reader/minimal_example.html) from our docs and the new [data selection example](https://github.com/ageller/Firefly/blob/main/src/firefly/ntbks/selecting_data.ipynb) from our GitHub repo.\n",
    "\n",
    "\n",
    "As an example, we will generate two random particle sets (a sphere and a cube) both with a randomized attribute field.  We will load these data into Firefly.\n",
    "\n",
    "This notebook also demonstrates how to retrieve data that you selected by hand in the Firefly app and then use those data with your notebook. "
   ]
  },
  {
   "cell_type": "code",
   "execution_count": 1,
   "id": "0bb698e7-3808-42d8-976e-571c7d383849",
   "metadata": {},
   "outputs": [],
   "source": [
    "import numpy as np"
   ]
  },
  {
   "cell_type": "code",
   "execution_count": 2,
   "id": "0ac428d3-34a1-4acb-806b-fe4249e3f937",
   "metadata": {},
   "outputs": [],
   "source": [
    "# Load your data. Here we're creating random data.\n",
    "\n",
    "# one particle set (sphere)\n",
    "coords_sphere = np.random.randn( 20000, 3 )\n",
    "fields_sphere = np.random.random(size=coords_sphere[:,0].size)\n",
    "\n",
    "# a second particle set (cube)\n",
    "coords_cube = np.random.rand( 20000, 3 ) - 0.5\n",
    "fields_cube = np.random.random(size=coords_cube[:,0].size)"
   ]
  },
  {
   "cell_type": "code",
   "execution_count": 3,
   "id": "e1777df0-09a2-417b-a9ad-bea620e76473",
   "metadata": {},
   "outputs": [
    {
     "data": {
      "text/plain": [
       "(20000, 3)"
      ]
     },
     "execution_count": 3,
     "metadata": {},
     "output_type": "execute_result"
    }
   ],
   "source": [
    "np.shape(coords_cube)"
   ]
  },
  {
   "cell_type": "markdown",
   "id": "34ecbc6c-a09f-4017-9c0e-5768cd91276a",
   "metadata": {},
   "source": [
    "## Format Data for Firefly"
   ]
  },
  {
   "cell_type": "markdown",
   "id": "fd67a451",
   "metadata": {},
   "source": [
    "Here are the docs for [Reader](https://firefly.rcs.northwestern.edu/docs/reference/api/classes/firefly.data_reader.Reader.html#firefly.data_reader.Reader) and [ParticleGroup](https://firefly.rcs.northwestern.edu/docs/reference/api/classes/firefly.data_reader.ParticleGroup.html#firefly.data_reader.ParticleGroup) and also [a tutorial for using these](https://firefly.rcs.northwestern.edu/docs/data_reader/reader_tutorial.html).  Also note that for simple data (e.g., one particle group), you can use the [ArrayReader](https://firefly.rcs.northwestern.edu/docs/reference/api/readers/firefly.data_reader.ArrayReader.html) class."
   ]
  },
  {
   "cell_type": "code",
   "execution_count": 4,
   "id": "2154b107-f405-443c-b607-737c78e37dfb",
   "metadata": {},
   "outputs": [],
   "source": [
    "from firefly.data_reader import ParticleGroup, Reader"
   ]
  },
  {
   "cell_type": "code",
   "execution_count": 5,
   "id": "e2122853-f98f-469c-8fbf-c1f3ec151f50",
   "metadata": {},
   "outputs": [
    {
     "data": {
      "text/html": [
       "<div>\n",
       "<style scoped>\n",
       "    .dataframe tbody tr th:only-of-type {\n",
       "        vertical-align: middle;\n",
       "    }\n",
       "\n",
       "    .dataframe tbody tr th {\n",
       "        vertical-align: top;\n",
       "    }\n",
       "\n",
       "    .dataframe thead th {\n",
       "        text-align: right;\n",
       "    }\n",
       "</style>\n",
       "<table border=\"1\" class=\"dataframe\">\n",
       "  <thead>\n",
       "    <tr style=\"text-align: right;\">\n",
       "      <th></th>\n",
       "      <th>pl_name</th>\n",
       "      <th>default_flag</th>\n",
       "      <th>discoverymethod</th>\n",
       "      <th>disc_year</th>\n",
       "      <th>pl_controv_flag</th>\n",
       "      <th>pl_orbper</th>\n",
       "      <th>pl_orbpererr1</th>\n",
       "      <th>pl_orbpererr2</th>\n",
       "      <th>pl_orbperlim</th>\n",
       "      <th>pl_orbsmax</th>\n",
       "      <th>...</th>\n",
       "      <th>st_mass</th>\n",
       "      <th>st_masserr1</th>\n",
       "      <th>st_masserr2</th>\n",
       "      <th>st_masslim</th>\n",
       "      <th>sy_dist</th>\n",
       "      <th>sy_disterr1</th>\n",
       "      <th>sy_disterr2</th>\n",
       "      <th>sy_gaiamag</th>\n",
       "      <th>sy_gaiamagerr1</th>\n",
       "      <th>sy_gaiamagerr2</th>\n",
       "    </tr>\n",
       "  </thead>\n",
       "  <tbody>\n",
       "    <tr>\n",
       "      <th>0</th>\n",
       "      <td>11 Com b</td>\n",
       "      <td>1</td>\n",
       "      <td>Radial Velocity</td>\n",
       "      <td>2007</td>\n",
       "      <td>0</td>\n",
       "      <td>323.210000</td>\n",
       "      <td>0.060000</td>\n",
       "      <td>-0.050000</td>\n",
       "      <td>0.0</td>\n",
       "      <td>1.178000</td>\n",
       "      <td>...</td>\n",
       "      <td>2.09</td>\n",
       "      <td>0.64</td>\n",
       "      <td>-0.63</td>\n",
       "      <td>0.0</td>\n",
       "      <td>93.1846</td>\n",
       "      <td>1.92380</td>\n",
       "      <td>-1.92380</td>\n",
       "      <td>4.44038</td>\n",
       "      <td>0.003848</td>\n",
       "      <td>-0.003848</td>\n",
       "    </tr>\n",
       "    <tr>\n",
       "      <th>1</th>\n",
       "      <td>11 UMi b</td>\n",
       "      <td>1</td>\n",
       "      <td>Radial Velocity</td>\n",
       "      <td>2009</td>\n",
       "      <td>0</td>\n",
       "      <td>516.219970</td>\n",
       "      <td>3.200000</td>\n",
       "      <td>-3.200000</td>\n",
       "      <td>0.0</td>\n",
       "      <td>1.530000</td>\n",
       "      <td>...</td>\n",
       "      <td>2.78</td>\n",
       "      <td>0.69</td>\n",
       "      <td>-0.69</td>\n",
       "      <td>0.0</td>\n",
       "      <td>125.3210</td>\n",
       "      <td>1.97650</td>\n",
       "      <td>-1.97650</td>\n",
       "      <td>4.56216</td>\n",
       "      <td>0.003903</td>\n",
       "      <td>-0.003903</td>\n",
       "    </tr>\n",
       "    <tr>\n",
       "      <th>2</th>\n",
       "      <td>14 And b</td>\n",
       "      <td>1</td>\n",
       "      <td>Radial Velocity</td>\n",
       "      <td>2008</td>\n",
       "      <td>0</td>\n",
       "      <td>186.760000</td>\n",
       "      <td>0.110000</td>\n",
       "      <td>-0.120000</td>\n",
       "      <td>0.0</td>\n",
       "      <td>0.775000</td>\n",
       "      <td>...</td>\n",
       "      <td>1.78</td>\n",
       "      <td>0.43</td>\n",
       "      <td>-0.29</td>\n",
       "      <td>0.0</td>\n",
       "      <td>75.4392</td>\n",
       "      <td>0.71400</td>\n",
       "      <td>-0.71400</td>\n",
       "      <td>4.91781</td>\n",
       "      <td>0.002826</td>\n",
       "      <td>-0.002826</td>\n",
       "    </tr>\n",
       "    <tr>\n",
       "      <th>3</th>\n",
       "      <td>14 Her b</td>\n",
       "      <td>1</td>\n",
       "      <td>Radial Velocity</td>\n",
       "      <td>2002</td>\n",
       "      <td>0</td>\n",
       "      <td>1765.038900</td>\n",
       "      <td>1.677090</td>\n",
       "      <td>-1.872560</td>\n",
       "      <td>0.0</td>\n",
       "      <td>2.774000</td>\n",
       "      <td>...</td>\n",
       "      <td>0.91</td>\n",
       "      <td>0.11</td>\n",
       "      <td>-0.11</td>\n",
       "      <td>0.0</td>\n",
       "      <td>17.9323</td>\n",
       "      <td>0.00730</td>\n",
       "      <td>-0.00730</td>\n",
       "      <td>6.38300</td>\n",
       "      <td>0.000351</td>\n",
       "      <td>-0.000351</td>\n",
       "    </tr>\n",
       "    <tr>\n",
       "      <th>4</th>\n",
       "      <td>16 Cyg B b</td>\n",
       "      <td>1</td>\n",
       "      <td>Radial Velocity</td>\n",
       "      <td>1996</td>\n",
       "      <td>0</td>\n",
       "      <td>798.500000</td>\n",
       "      <td>1.000000</td>\n",
       "      <td>-1.000000</td>\n",
       "      <td>0.0</td>\n",
       "      <td>1.660000</td>\n",
       "      <td>...</td>\n",
       "      <td>1.08</td>\n",
       "      <td>0.04</td>\n",
       "      <td>-0.04</td>\n",
       "      <td>0.0</td>\n",
       "      <td>21.1397</td>\n",
       "      <td>0.01100</td>\n",
       "      <td>-0.01110</td>\n",
       "      <td>6.06428</td>\n",
       "      <td>0.000603</td>\n",
       "      <td>-0.000603</td>\n",
       "    </tr>\n",
       "    <tr>\n",
       "      <th>...</th>\n",
       "      <td>...</td>\n",
       "      <td>...</td>\n",
       "      <td>...</td>\n",
       "      <td>...</td>\n",
       "      <td>...</td>\n",
       "      <td>...</td>\n",
       "      <td>...</td>\n",
       "      <td>...</td>\n",
       "      <td>...</td>\n",
       "      <td>...</td>\n",
       "      <td>...</td>\n",
       "      <td>...</td>\n",
       "      <td>...</td>\n",
       "      <td>...</td>\n",
       "      <td>...</td>\n",
       "      <td>...</td>\n",
       "      <td>...</td>\n",
       "      <td>...</td>\n",
       "      <td>...</td>\n",
       "      <td>...</td>\n",
       "      <td>...</td>\n",
       "    </tr>\n",
       "    <tr>\n",
       "      <th>5745</th>\n",
       "      <td>ups And b</td>\n",
       "      <td>1</td>\n",
       "      <td>Radial Velocity</td>\n",
       "      <td>1996</td>\n",
       "      <td>0</td>\n",
       "      <td>4.617033</td>\n",
       "      <td>0.000023</td>\n",
       "      <td>-0.000023</td>\n",
       "      <td>0.0</td>\n",
       "      <td>0.059222</td>\n",
       "      <td>...</td>\n",
       "      <td>1.30</td>\n",
       "      <td>NaN</td>\n",
       "      <td>NaN</td>\n",
       "      <td>0.0</td>\n",
       "      <td>13.4054</td>\n",
       "      <td>0.06350</td>\n",
       "      <td>-0.06290</td>\n",
       "      <td>3.98687</td>\n",
       "      <td>0.008937</td>\n",
       "      <td>-0.008937</td>\n",
       "    </tr>\n",
       "    <tr>\n",
       "      <th>5746</th>\n",
       "      <td>ups And c</td>\n",
       "      <td>1</td>\n",
       "      <td>Radial Velocity</td>\n",
       "      <td>1999</td>\n",
       "      <td>0</td>\n",
       "      <td>241.258000</td>\n",
       "      <td>0.064000</td>\n",
       "      <td>-0.064000</td>\n",
       "      <td>0.0</td>\n",
       "      <td>0.827774</td>\n",
       "      <td>...</td>\n",
       "      <td>1.30</td>\n",
       "      <td>NaN</td>\n",
       "      <td>NaN</td>\n",
       "      <td>0.0</td>\n",
       "      <td>13.4054</td>\n",
       "      <td>0.06350</td>\n",
       "      <td>-0.06290</td>\n",
       "      <td>3.98687</td>\n",
       "      <td>0.008937</td>\n",
       "      <td>-0.008937</td>\n",
       "    </tr>\n",
       "    <tr>\n",
       "      <th>5747</th>\n",
       "      <td>ups And d</td>\n",
       "      <td>1</td>\n",
       "      <td>Radial Velocity</td>\n",
       "      <td>1999</td>\n",
       "      <td>0</td>\n",
       "      <td>1276.460000</td>\n",
       "      <td>0.570000</td>\n",
       "      <td>-0.570000</td>\n",
       "      <td>0.0</td>\n",
       "      <td>2.513290</td>\n",
       "      <td>...</td>\n",
       "      <td>1.30</td>\n",
       "      <td>NaN</td>\n",
       "      <td>NaN</td>\n",
       "      <td>0.0</td>\n",
       "      <td>13.4054</td>\n",
       "      <td>0.06350</td>\n",
       "      <td>-0.06290</td>\n",
       "      <td>3.98687</td>\n",
       "      <td>0.008937</td>\n",
       "      <td>-0.008937</td>\n",
       "    </tr>\n",
       "    <tr>\n",
       "      <th>5748</th>\n",
       "      <td>ups Leo b</td>\n",
       "      <td>1</td>\n",
       "      <td>Radial Velocity</td>\n",
       "      <td>2021</td>\n",
       "      <td>0</td>\n",
       "      <td>385.200000</td>\n",
       "      <td>2.800000</td>\n",
       "      <td>-1.300000</td>\n",
       "      <td>0.0</td>\n",
       "      <td>1.180000</td>\n",
       "      <td>...</td>\n",
       "      <td>1.48</td>\n",
       "      <td>0.90</td>\n",
       "      <td>-0.38</td>\n",
       "      <td>0.0</td>\n",
       "      <td>52.5973</td>\n",
       "      <td>0.92720</td>\n",
       "      <td>-0.89630</td>\n",
       "      <td>4.03040</td>\n",
       "      <td>0.008513</td>\n",
       "      <td>-0.008513</td>\n",
       "    </tr>\n",
       "    <tr>\n",
       "      <th>5749</th>\n",
       "      <td>xi Aql b</td>\n",
       "      <td>1</td>\n",
       "      <td>Radial Velocity</td>\n",
       "      <td>2007</td>\n",
       "      <td>0</td>\n",
       "      <td>136.970000</td>\n",
       "      <td>0.110000</td>\n",
       "      <td>-0.180000</td>\n",
       "      <td>0.0</td>\n",
       "      <td>0.625000</td>\n",
       "      <td>...</td>\n",
       "      <td>1.74</td>\n",
       "      <td>0.21</td>\n",
       "      <td>-0.28</td>\n",
       "      <td>0.0</td>\n",
       "      <td>56.1858</td>\n",
       "      <td>0.55975</td>\n",
       "      <td>-0.55975</td>\n",
       "      <td>4.42501</td>\n",
       "      <td>0.003837</td>\n",
       "      <td>-0.003837</td>\n",
       "    </tr>\n",
       "  </tbody>\n",
       "</table>\n",
       "<p>5750 rows × 36 columns</p>\n",
       "</div>"
      ],
      "text/plain": [
       "         pl_name  default_flag  discoverymethod  disc_year  pl_controv_flag  \\\n",
       "0       11 Com b             1  Radial Velocity       2007                0   \n",
       "1       11 UMi b             1  Radial Velocity       2009                0   \n",
       "2       14 And b             1  Radial Velocity       2008                0   \n",
       "3       14 Her b             1  Radial Velocity       2002                0   \n",
       "4     16 Cyg B b             1  Radial Velocity       1996                0   \n",
       "...          ...           ...              ...        ...              ...   \n",
       "5745   ups And b             1  Radial Velocity       1996                0   \n",
       "5746   ups And c             1  Radial Velocity       1999                0   \n",
       "5747   ups And d             1  Radial Velocity       1999                0   \n",
       "5748   ups Leo b             1  Radial Velocity       2021                0   \n",
       "5749    xi Aql b             1  Radial Velocity       2007                0   \n",
       "\n",
       "        pl_orbper  pl_orbpererr1  pl_orbpererr2  pl_orbperlim  pl_orbsmax  \\\n",
       "0      323.210000       0.060000      -0.050000           0.0    1.178000   \n",
       "1      516.219970       3.200000      -3.200000           0.0    1.530000   \n",
       "2      186.760000       0.110000      -0.120000           0.0    0.775000   \n",
       "3     1765.038900       1.677090      -1.872560           0.0    2.774000   \n",
       "4      798.500000       1.000000      -1.000000           0.0    1.660000   \n",
       "...           ...            ...            ...           ...         ...   \n",
       "5745     4.617033       0.000023      -0.000023           0.0    0.059222   \n",
       "5746   241.258000       0.064000      -0.064000           0.0    0.827774   \n",
       "5747  1276.460000       0.570000      -0.570000           0.0    2.513290   \n",
       "5748   385.200000       2.800000      -1.300000           0.0    1.180000   \n",
       "5749   136.970000       0.110000      -0.180000           0.0    0.625000   \n",
       "\n",
       "      ...  st_mass  st_masserr1  st_masserr2  st_masslim   sy_dist  \\\n",
       "0     ...     2.09         0.64        -0.63         0.0   93.1846   \n",
       "1     ...     2.78         0.69        -0.69         0.0  125.3210   \n",
       "2     ...     1.78         0.43        -0.29         0.0   75.4392   \n",
       "3     ...     0.91         0.11        -0.11         0.0   17.9323   \n",
       "4     ...     1.08         0.04        -0.04         0.0   21.1397   \n",
       "...   ...      ...          ...          ...         ...       ...   \n",
       "5745  ...     1.30          NaN          NaN         0.0   13.4054   \n",
       "5746  ...     1.30          NaN          NaN         0.0   13.4054   \n",
       "5747  ...     1.30          NaN          NaN         0.0   13.4054   \n",
       "5748  ...     1.48         0.90        -0.38         0.0   52.5973   \n",
       "5749  ...     1.74         0.21        -0.28         0.0   56.1858   \n",
       "\n",
       "      sy_disterr1  sy_disterr2  sy_gaiamag  sy_gaiamagerr1  sy_gaiamagerr2  \n",
       "0         1.92380     -1.92380     4.44038        0.003848       -0.003848  \n",
       "1         1.97650     -1.97650     4.56216        0.003903       -0.003903  \n",
       "2         0.71400     -0.71400     4.91781        0.002826       -0.002826  \n",
       "3         0.00730     -0.00730     6.38300        0.000351       -0.000351  \n",
       "4         0.01100     -0.01110     6.06428        0.000603       -0.000603  \n",
       "...           ...          ...         ...             ...             ...  \n",
       "5745      0.06350     -0.06290     3.98687        0.008937       -0.008937  \n",
       "5746      0.06350     -0.06290     3.98687        0.008937       -0.008937  \n",
       "5747      0.06350     -0.06290     3.98687        0.008937       -0.008937  \n",
       "5748      0.92720     -0.89630     4.03040        0.008513       -0.008513  \n",
       "5749      0.55975     -0.55975     4.42501        0.003837       -0.003837  \n",
       "\n",
       "[5750 rows x 36 columns]"
      ]
     },
     "execution_count": 5,
     "metadata": {},
     "output_type": "execute_result"
    }
   ],
   "source": [
    "# load in data from exoplanet archive\n",
    "import pandas as pd\n",
    "\n",
    "# Specify the path to your CSV file\n",
    "csv_file_path = 'PS_2024.10.22_09.05.46.csv'  # Replace with your actual CSV file path\n",
    "\n",
    "# Load the CSV file into a DataFrame, skipping the first 45 rows\n",
    "data = pd.read_csv(csv_file_path, skiprows=45)\n",
    "\n",
    "data"
   ]
  },
  {
   "cell_type": "code",
   "execution_count": 6,
   "id": "20e65af1-87c5-4c60-8268-094b851b4340",
   "metadata": {},
   "outputs": [
    {
     "data": {
      "text/plain": [
       "array(['Radial Velocity', 'Imaging', 'Eclipse Timing Variations',\n",
       "       'Transit', 'Transit Timing Variations', 'Astrometry',\n",
       "       'Microlensing', 'Disk Kinematics', 'Orbital Brightness Modulation',\n",
       "       'Pulsation Timing Variations', 'Pulsar Timing'], dtype=object)"
      ]
     },
     "execution_count": 6,
     "metadata": {},
     "output_type": "execute_result"
    }
   ],
   "source": [
    "data['discoverymethod'].unique()"
   ]
  },
  {
   "cell_type": "code",
   "execution_count": 7,
   "id": "9571fde8-20ca-42c1-a1e8-11b75eff15ed",
   "metadata": {},
   "outputs": [
    {
     "data": {
      "text/plain": [
       "array([0, 0, 0, ..., 0, 0, 0])"
      ]
     },
     "execution_count": 7,
     "metadata": {},
     "output_type": "execute_result"
    }
   ],
   "source": [
    "\n",
    "# Assuming 'data' is your DataFrame already loaded\n",
    "# Factorize the 'discoverymethod' column\n",
    "data['discoverymethod_int'], unique_values = pd.factorize(data['discoverymethod'])\n",
    "\n",
    "# Display the mapping and the updated DataFrame\n",
    "data['discoverymethod_int'].values\n",
    "\n"
   ]
  },
  {
   "cell_type": "code",
   "execution_count": 8,
   "id": "54406ed9-add9-404d-a19f-f93b2093a4a1",
   "metadata": {},
   "outputs": [
    {
     "data": {
      "text/plain": [
       "array([[ 1.07961157,  0.19927399,  0.42709803],\n",
       "       [-0.9676326 , -0.40061475, -1.11539005],\n",
       "       [-0.71523645,  0.18487978,  0.23426754],\n",
       "       ...,\n",
       "       [ 1.63706354, -1.26141353, -1.43020471],\n",
       "       [ 0.85702273, -0.79101307, -0.17947243],\n",
       "       [ 0.58442021,  0.03410473,  0.21889469]])"
      ]
     },
     "execution_count": 8,
     "metadata": {},
     "output_type": "execute_result"
    }
   ],
   "source": [
    "#convert to x, y, z space\n",
    "\n",
    "xs, ys, zs = [], [], []\n",
    "def random_orbit_coordinates(semi_major_axis):\n",
    "    # Convert semi-major axis from astronomical units to meters (1 AU = 1.496e11 m)\n",
    "    a = semi_major_axis #au\n",
    "    \n",
    "    # Randomly choose inclination in radians (between 0 and 90 degrees)\n",
    "    inclination = np.random.uniform(0, np.pi / 2)  # inclination in radians\n",
    "    \n",
    "    # Randomly choose true anomaly in radians (between 0 and 2*pi)\n",
    "    true_anomaly = np.random.uniform(0, 2 * np.pi)  # true anomaly in radians\n",
    "    \n",
    "    # Calculate coordinates in the orbital plane (x', y')\n",
    "    x_orbital = a * np.cos(true_anomaly)\n",
    "    y_orbital = a * np.sin(true_anomaly)\n",
    "    \n",
    "    # Convert to 3D coordinates considering inclination\n",
    "    x = x_orbital\n",
    "    y = y_orbital * np.cos(inclination)\n",
    "    z = y_orbital * np.sin(inclination)\n",
    "    \n",
    "    return x, y, z\n",
    "\n",
    "# Example usage\n",
    "\n",
    "for semi_major_axis in data['pl_orbsmax']:\n",
    "    x, y, z = random_orbit_coordinates(semi_major_axis)\n",
    "    xs.append(x)\n",
    "    ys.append(y)\n",
    "    zs.append(z)\n",
    "\n",
    "\n",
    "xs = np.array(xs)\n",
    "ys = np.array(ys)\n",
    "zs = np.array(zs)\n",
    "\n",
    "\n",
    "# Combine the arrays into a single array of shape (5750, 3)\n",
    "coords = np.column_stack((xs, ys, zs))\n",
    "\n",
    "# Check the shape of the combined array\n",
    "coords"
   ]
  },
  {
   "cell_type": "code",
   "execution_count": 9,
   "id": "f5d08229-ff9e-4c4c-8eec-3657951ea452",
   "metadata": {},
   "outputs": [
    {
     "data": {
      "text/plain": [
       "(5750,)"
      ]
     },
     "execution_count": 9,
     "metadata": {},
     "output_type": "execute_result"
    }
   ],
   "source": [
    "#fields = data['disc_year'].values\n",
    "fields = data['discoverymethod_int'].values\n",
    "np.shape(fields)"
   ]
  },
  {
   "cell_type": "code",
   "execution_count": 10,
   "id": "a3a04bf0",
   "metadata": {},
   "outputs": [
    {
     "name": "stdout",
     "output_type": "stream",
     "text": [
      "Make sure each field_array (1) has a field_filter_flag (0), assuming True.\n",
      "Make sure each field_array (1) has a field_colormap_flag (0), assuming True.\n",
      "Make sure each field_array (1) has a field_radius_flag (0), assuming False.\n",
      "datadir is None, defaulting to /Users/daniel/opt/anaconda3/envs/firefly-env/lib/python3.11/site-packages/firefly/static/data/Data\n"
     ]
    }
   ],
   "source": [
    "# create two Firefly particle groups\n",
    "planets = ParticleGroup(\n",
    "    'planets',\n",
    "    coords,\n",
    "    field_arrays=[fields], \n",
    "    field_names=['year']\n",
    ") \n",
    "'''\n",
    "cube = ParticleGroup(\n",
    "    'cube',\n",
    "    coords_cube,\n",
    "    field_arrays=[fields_cube], \n",
    "    field_names=['randc']\n",
    ")\n",
    "'''\n",
    "\n",
    "# create the Reader\n",
    "my_reader = Reader()\n",
    "\n",
    "# add the particle groups to the reader\n",
    "my_reader.addParticleGroup(planets)\n"
   ]
  },
  {
   "cell_type": "markdown",
   "id": "dabdb04f-71ad-4b1c-9c73-211300a75fef",
   "metadata": {},
   "source": [
    "## Display Inline"
   ]
  },
  {
   "cell_type": "code",
   "execution_count": 11,
   "id": "cf3fd1b8-f568-4558-b8f3-4c6751d4f32b",
   "metadata": {},
   "outputs": [],
   "source": [
    "from firefly.server import spawnFireflyServer,quitAllFireflyServers"
   ]
  },
  {
   "cell_type": "code",
   "execution_count": 12,
   "id": "9b1f007c",
   "metadata": {},
   "outputs": [],
   "source": [
    "# define the local port (typically anything in 5000 - 8000 range)\n",
    "port = 5500"
   ]
  },
  {
   "cell_type": "code",
   "execution_count": 13,
   "id": "6e2fa016-019c-482a-a039-114816ecee37",
   "metadata": {},
   "outputs": [
    {
     "name": "stdout",
     "output_type": "stream",
     "text": [
      "Waiting up to 10 seconds for background Firefly server to start....."
     ]
    },
    {
     "name": "stderr",
     "output_type": "stream",
     "text": [
      " * Restarting with stat\n"
     ]
    },
    {
     "name": "stdout",
     "output_type": "stream",
     "text": [
      ".done! Your server is available at - http://localhost:5500\n"
     ]
    }
   ],
   "source": [
    "process = spawnFireflyServer(port, method = 'flask')"
   ]
  },
  {
   "cell_type": "code",
   "execution_count": 14,
   "id": "0493ceed-85af-4e50-a6b4-95801a4e37ec",
   "metadata": {},
   "outputs": [
    {
     "data": {
      "text/html": [
       "\n",
       "        <iframe\n",
       "            width=\"1000\"\n",
       "            height=\"500\"\n",
       "            src=\"http://localhost:5500/combined\"\n",
       "            frameborder=\"0\"\n",
       "            allowfullscreen\n",
       "            \n",
       "        ></iframe>\n",
       "        "
      ],
      "text/plain": [
       "<IPython.lib.display.IFrame at 0x111b75150>"
      ]
     },
     "execution_count": 14,
     "metadata": {},
     "output_type": "execute_result"
    }
   ],
   "source": [
    "from IPython.display import IFrame\n",
    "url = f'http://localhost:{port:d}/combined'\n",
    "IFrame(url, width=1000, height=500)"
   ]
  },
  {
   "cell_type": "code",
   "execution_count": 15,
   "id": "2261db30-3211-482a-adbc-a3f2983199fd",
   "metadata": {
    "tags": []
   },
   "outputs": [
    {
     "name": "stdout",
     "output_type": "stream",
     "text": [
      "planets - 5750/5750 particles - 1 tracked fields\n",
      "Posting data on port 5500...data posted!\n"
     ]
    }
   ],
   "source": [
    "# Send data to the server.\n",
    "# Wait until it loads to run this command\n",
    "my_reader.sendDataViaFlask()"
   ]
  },
  {
   "cell_type": "markdown",
   "id": "58b2b46c",
   "metadata": {},
   "source": [
    "## Get the selected data in Python\n",
    "\n",
    "(after using the selection tool)"
   ]
  },
  {
   "cell_type": "code",
   "execution_count": 10,
   "id": "de937d06",
   "metadata": {},
   "outputs": [],
   "source": [
    "import requests\n",
    "\n",
    "import matplotlib.pyplot as plt\n",
    "%matplotlib inline"
   ]
  },
  {
   "cell_type": "code",
   "execution_count": 11,
   "id": "d0883299",
   "metadata": {},
   "outputs": [
    {
     "name": "stdout",
     "output_type": "stream",
     "text": [
      "Error: 504 b'Timeout.  Please increase the waitTime using the params keyword'\n"
     ]
    }
   ],
   "source": [
    "# send a get request to receive the current settings from Firefly\n",
    "# for larger amounts of data, you will need to increase the waitTime (in seconds) via params (see below; the default is 10s)\n",
    "r = requests.get(url = f'http://localhost:{port:d}/get_selected_data', params = {'waitTime':60})\n",
    "if r.status_code == 200:\n",
    "    # success\n",
    "    selection = r.json()\n",
    "    # as a check\n",
    "    partsKeys = list(selection.keys())\n",
    "    print(partsKeys)\n",
    "    print(selection[partsKeys[0]]['Coordinates_flat'][:100]) \n",
    "else:\n",
    "    print('Error: {}'.format(r.status_code), r.content)\n"
   ]
  },
  {
   "cell_type": "code",
   "execution_count": 12,
   "id": "20a253b3",
   "metadata": {},
   "outputs": [
    {
     "ename": "NameError",
     "evalue": "name 'selection' is not defined",
     "output_type": "error",
     "traceback": [
      "\u001b[0;31m---------------------------------------------------------------------------\u001b[0m",
      "\u001b[0;31mNameError\u001b[0m                                 Traceback (most recent call last)",
      "Cell \u001b[0;32mIn[12], line 2\u001b[0m\n\u001b[1;32m      1\u001b[0m \u001b[38;5;66;03m# plot x, y for the selected points\u001b[39;00m\n\u001b[0;32m----> 2\u001b[0m partsKeys \u001b[38;5;241m=\u001b[39m \u001b[38;5;28mlist\u001b[39m(selection\u001b[38;5;241m.\u001b[39mkeys())\n\u001b[1;32m      3\u001b[0m part0 \u001b[38;5;241m=\u001b[39m selection[partsKeys[\u001b[38;5;241m0\u001b[39m]]\n\u001b[1;32m      5\u001b[0m \u001b[38;5;66;03m# UPDATE THIS\u001b[39;00m\n",
      "\u001b[0;31mNameError\u001b[0m: name 'selection' is not defined"
     ]
    }
   ],
   "source": [
    "# plot x, y for the selected points\n",
    "partsKeys = list(selection.keys())\n",
    "part0 = selection[partsKeys[0]]\n",
    "\n",
    "# UPDATE THIS\n",
    "x = part0['Coordinates_flat'][0::3]\n",
    "y = part0['Coordinates_flat'][1::3]\n",
    "\n",
    "f, ax = plt.subplots()\n",
    "ax.scatter(x[:1000],y[:1000])"
   ]
  },
  {
   "cell_type": "markdown",
   "id": "e7a2716d",
   "metadata": {},
   "source": [
    "### Quit the Firefly server\n",
    "\n",
    "... this doesn't always work in a notebook ... you can also quit the server by resetting the kernel."
   ]
  },
  {
   "cell_type": "code",
   "execution_count": 58,
   "id": "83c11899-5ca2-4a58-91e1-6818988f3603",
   "metadata": {},
   "outputs": [
    {
     "name": "stdout",
     "output_type": "stream",
     "text": [
      "Server output:\n",
      "--------------\n"
     ]
    },
    {
     "name": "stderr",
     "output_type": "stream",
     "text": [
      "kill: 36158: No such process\n"
     ]
    }
   ],
   "source": [
    "return_code = quitAllFireflyServers()"
   ]
  },
  {
   "cell_type": "code",
   "execution_count": null,
   "id": "d04aaa5d",
   "metadata": {},
   "outputs": [],
   "source": []
  }
 ],
 "metadata": {
  "kernelspec": {
   "display_name": "Python 3 (ipykernel)",
   "language": "python",
   "name": "python3"
  },
  "language_info": {
   "codemirror_mode": {
    "name": "ipython",
    "version": 3
   },
   "file_extension": ".py",
   "mimetype": "text/x-python",
   "name": "python",
   "nbconvert_exporter": "python",
   "pygments_lexer": "ipython3",
   "version": "3.11.10"
  }
 },
 "nbformat": 4,
 "nbformat_minor": 5
}
